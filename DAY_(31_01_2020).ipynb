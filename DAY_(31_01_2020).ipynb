{
  "nbformat": 4,
  "nbformat_minor": 0,
  "metadata": {
    "colab": {
      "name": "DAY (31-01-2020).ipynb",
      "provenance": [],
      "authorship_tag": "ABX9TyO0iHf2EwvmaEmtTswv6rHG",
      "include_colab_link": true
    },
    "kernelspec": {
      "name": "python3",
      "display_name": "Python 3"
    }
  },
  "cells": [
    {
      "cell_type": "markdown",
      "metadata": {
        "id": "view-in-github",
        "colab_type": "text"
      },
      "source": [
        "<a href=\"https://colab.research.google.com/github/vamsi836/PYTHON/blob/master/DAY_(31_01_2020).ipynb\" target=\"_parent\"><img src=\"https://colab.research.google.com/assets/colab-badge.svg\" alt=\"Open In Colab\"/></a>"
      ]
    },
    {
      "cell_type": "code",
      "metadata": {
        "id": "Im4kL-l_wGUT",
        "colab_type": "code",
        "colab": {}
      },
      "source": [
        ""
      ],
      "execution_count": 0,
      "outputs": []
    },
    {
      "cell_type": "markdown",
      "metadata": {
        "id": "loSRT1apxelu",
        "colab_type": "text"
      },
      "source": [
        "# LOOPS\n",
        "* WHILE LOOP\n",
        "* FOR LOOP"
      ]
    },
    {
      "cell_type": "code",
      "metadata": {
        "id": "XkHrgNhLxrmq",
        "colab_type": "code",
        "outputId": "e78da318-39b5-466d-bbf1-7b70bd8a89fe",
        "colab": {
          "base_uri": "https://localhost:8080/",
          "height": 54
        }
      },
      "source": [
        "# PRINT Number from to 1 to n\n",
        "# input 10\n",
        "# output 1 2 3 4 .... 10\n",
        "n = int(input(\"enter a number i\"))\n",
        "i = 1\n",
        "while i <=n:\n",
        "  print(i,end = \" \")\n",
        "  i = i+1"
      ],
      "execution_count": 0,
      "outputs": [
        {
          "output_type": "stream",
          "text": [
            "enter a number i10\n",
            "1 2 3 4 5 6 7 8 9 10 "
          ],
          "name": "stdout"
        }
      ]
    },
    {
      "cell_type": "code",
      "metadata": {
        "id": "PIUkUsNF1gHy",
        "colab_type": "code",
        "outputId": "e1f15128-b199-47e8-f2af-dc269cb75432",
        "colab": {
          "base_uri": "https://localhost:8080/",
          "height": 163
        }
      },
      "source": [
        "# PRINT sum of even numbers \n",
        "# input  :10\n",
        "# output : (2+4+6+8+10)=30\n",
        "n = int(input(\"enter a number\"))\n",
        "i = 2\n",
        "sum = 0\n",
        "while i<=n:\n",
        "  sum = sum + i\n",
        "  i = i+2\n",
        "  print(sum)"
      ],
      "execution_count": 0,
      "outputs": [
        {
          "output_type": "stream",
          "text": [
            "enter a number14\n",
            "2\n",
            "6\n",
            "12\n",
            "20\n",
            "30\n",
            "42\n",
            "56\n"
          ],
          "name": "stdout"
        }
      ]
    },
    {
      "cell_type": "code",
      "metadata": {
        "id": "LpEyxNTl5giB",
        "colab_type": "code",
        "outputId": "0c8217d9-f7b9-4291-bdbb-965d62c40f50",
        "colab": {
          "base_uri": "https://localhost:8080/",
          "height": 90
        }
      },
      "source": [
        "# print palindrome number\n",
        "# input 123\n",
        "# output 321\n",
        "n = int(input(\"enter a number\"))\n",
        "rem = 0\n",
        "num = 0\n",
        "while n>0:\n",
        "  rem=n%10\n",
        "  num=num*10+rem\n",
        "  n=n//10\n",
        "  print(num)"
      ],
      "execution_count": 0,
      "outputs": [
        {
          "output_type": "stream",
          "text": [
            "enter a number814\n",
            "4\n",
            "41\n",
            "418\n"
          ],
          "name": "stdout"
        }
      ]
    },
    {
      "cell_type": "code",
      "metadata": {
        "id": "3wVQOjGb3mBi",
        "colab_type": "code",
        "colab": {}
      },
      "source": [
        ""
      ],
      "execution_count": 0,
      "outputs": []
    },
    {
      "cell_type": "markdown",
      "metadata": {
        "id": "XZcZLJaS9IAA",
        "colab_type": "text"
      },
      "source": [
        "# FUNCTIONAL PROGRAMMING\n",
        "- Simple \n",
        "- easy to understand \n",
        "- better reuseability\n",
        "- lenghty program will be divided into sub programs"
      ]
    },
    {
      "cell_type": "code",
      "metadata": {
        "id": "ujC6h_XN9tbo",
        "colab_type": "code",
        "colab": {}
      },
      "source": [
        "def nameofthefunctions(<parameter>):\n",
        "  statements\n",
        "  return"
      ],
      "execution_count": 0,
      "outputs": []
    },
    {
      "cell_type": "code",
      "metadata": {
        "id": "Bn76N6xf-Y03",
        "colab_type": "code",
        "outputId": "18d77e24-33e7-4c24-dd8e-7e08bb4638fd",
        "colab": {
          "base_uri": "https://localhost:8080/",
          "height": 35
        }
      },
      "source": [
        "# print sum of even number\n",
        "def sumofevendigits(n):\n",
        "  s = 0 \n",
        "  while n!= 0:\n",
        "     r = n%10\n",
        "     if r%2==0:\n",
        "       s=s+r\n",
        "     n =n //10\n",
        "  return s\n",
        "sumofevendigits(1234) \n"
      ],
      "execution_count": 0,
      "outputs": [
        {
          "output_type": "execute_result",
          "data": {
            "text/plain": [
              "6"
            ]
          },
          "metadata": {
            "tags": []
          },
          "execution_count": 19
        }
      ]
    },
    {
      "cell_type": "code",
      "metadata": {
        "id": "e-2scgVpCNrS",
        "colab_type": "code",
        "outputId": "0c786684-de2f-43cd-98a4-636caf0b0a64",
        "colab": {
          "base_uri": "https://localhost:8080/",
          "height": 135
        }
      },
      "source": [
        "#to find the largest digit in a number\n",
        "def large(n):\n",
        "  prev=0\n",
        "  next=0\n",
        "  while(n!=0):\n",
        "     prev=next\n",
        "     next=n%10\n",
        "     if(prev>next):\n",
        "       next=prev\n",
        "    n=n//10\n",
        "   return next\n",
        "large(12345)   "
      ],
      "execution_count": 0,
      "outputs": [
        {
          "output_type": "error",
          "ename": "IndentationError",
          "evalue": "ignored",
          "traceback": [
            "\u001b[0;36m  File \u001b[0;32m\"<ipython-input-28-aee793d86236>\"\u001b[0;36m, line \u001b[0;32m9\u001b[0m\n\u001b[0;31m    n=n//10\u001b[0m\n\u001b[0m           ^\u001b[0m\n\u001b[0;31mIndentationError\u001b[0m\u001b[0;31m:\u001b[0m unindent does not match any outer indentation level\n"
          ]
        }
      ]
    },
    {
      "cell_type": "markdown",
      "metadata": {
        "id": "5LRQBw8aIbk-",
        "colab_type": "text"
      },
      "source": [
        "# for loop:\n",
        "# syntax:\n",
        "# for in range(start,stop,step):\n",
        "# statements\n"
      ]
    },
    {
      "cell_type": "code",
      "metadata": {
        "id": "FAOu8BSZGqGN",
        "colab_type": "code",
        "colab": {}
      },
      "source": [
        "# syntax:\n",
        "for in range(start,stop,step):\n",
        "    statements"
      ],
      "execution_count": 0,
      "outputs": []
    },
    {
      "cell_type": "code",
      "metadata": {
        "id": "yyFjmnn1JMXS",
        "colab_type": "code",
        "outputId": "6875784f-56b9-46b1-b13f-44b0060f943b",
        "colab": {
          "base_uri": "https://localhost:8080/",
          "height": 35
        }
      },
      "source": [
        "# using function print  the numbers between limits\n",
        "# input  : 11 25\n",
        "# output : 11 12 13 14 ...24 25\n",
        "def printseries(fn,ln):\n",
        "  for i in range(500,521,4):\n",
        "    print(i,end=\" \")\n",
        "    return\n",
        "printseries(500,521)    "
      ],
      "execution_count": 0,
      "outputs": [
        {
          "output_type": "stream",
          "text": [
            "500 "
          ],
          "name": "stdout"
        }
      ]
    },
    {
      "cell_type": "code",
      "metadata": {
        "id": "A2wpRVZIJHrc",
        "colab_type": "code",
        "colab": {}
      },
      "source": [
        "# input : 500,520\n",
        "# output : 502,5"
      ],
      "execution_count": 0,
      "outputs": []
    },
    {
      "cell_type": "markdown",
      "metadata": {
        "id": "DwHpP7v1M0Y9",
        "colab_type": "text"
      },
      "source": [
        "# collection types\n",
        "* List\n",
        "* Tuple\n",
        "* Dictionary\n"
      ]
    },
    {
      "cell_type": "code",
      "metadata": {
        "id": "h7WjhOcCNFSN",
        "colab_type": "code",
        "colab": {}
      },
      "source": [
        "# List\n",
        "- one of the data structure in python\n",
        "- Data structure means to store,sort and search options\n",
        "- its one common  data structure in  python,the items of list separated by comma and enclosed by square brackets\n",
        "- list was IMMUTABLE (0i.e value can change) \n",
        "- ex:\n",
        "- list1=[1,2,3,4,5]\n",
        "- list=[\"JNTUA\",\"DASD\",\"asds\"]"
      ],
      "execution_count": 0,
      "outputs": []
    },
    {
      "cell_type": "code",
      "metadata": {
        "id": "nNU4rtHaO3x7",
        "colab_type": "code",
        "colab": {}
      },
      "source": [
        "li = []1,8,2,5,4]\n",
        "print(li)\n",
        "print(li[2])\n",
        "print(li[-3])\n",
        "print(li[2:])\n",
        "print(li[2:4])\n",
        "print(li[-3:-1])"
      ],
      "execution_count": 0,
      "outputs": []
    },
    {
      "cell_type": "code",
      "metadata": {
        "id": "ra7Y3thPckVD",
        "colab_type": "code",
        "colab": {}
      },
      "source": [
        "['JNTUA', 8, 'ANTPR', 5, 4]\n",
        "['JNTUA', '154', 'ANTPR', 5, 4]\n",
        "['JNTUA', '154', 'ANTPR', 4]"
      ],
      "execution_count": 0,
      "outputs": []
    },
    {
      "cell_type": "code",
      "metadata": {
        "id": "6pUcTNnRdIIH",
        "colab_type": "code",
        "colab": {
          "base_uri": "https://localhost:8080/",
          "height": 90
        },
        "outputId": "e7fc3a46-77ae-45ee-c705-d65136aec9bc"
      },
      "source": [
        "# Basic List Operators\n",
        "li = [1,2,3,4,5]\n",
        "print(len(li))\n",
        "print(li*2)\n",
        "print(4 in li)\n",
        "print(6 in li)"
      ],
      "execution_count": 39,
      "outputs": [
        {
          "output_type": "stream",
          "text": [
            "5\n",
            "[1, 2, 3, 4, 5, 1, 2, 3, 4, 5]\n",
            "True\n",
            "False\n"
          ],
          "name": "stdout"
        }
      ]
    },
    {
      "cell_type": "code",
      "metadata": {
        "id": "Z5flp6DMOrRv",
        "colab_type": "code",
        "colab": {}
      },
      "source": [
        ""
      ],
      "execution_count": 0,
      "outputs": []
    },
    {
      "cell_type": "markdown",
      "metadata": {
        "id": "glrXYrCneCa4",
        "colab_type": "text"
      },
      "source": [
        "# List functions\n",
        "- max\n",
        "- min\n",
        "- sum \n",
        "- append\n",
        "- insert\n",
        "- count \n",
        "- index\n",
        "- sort\n",
        "- pop\n"
      ]
    },
    {
      "cell_type": "code",
      "metadata": {
        "id": "DWliCn55eR-D",
        "colab_type": "code",
        "colab": {}
      },
      "source": [
        ""
      ],
      "execution_count": 0,
      "outputs": []
    },
    {
      "cell_type": "code",
      "metadata": {
        "id": "kmuqK7JXedqi",
        "colab_type": "code",
        "colab": {}
      },
      "source": [
        "li = [1,2,3,4,5]\n",
        "print(max(li))\n",
        "print(min(li))\n",
        "print(sum(l)/(len(1)))"
      ],
      "execution_count": 0,
      "outputs": []
    },
    {
      "cell_type": "code",
      "metadata": {
        "id": "33Z5W3FchMSi",
        "colab_type": "code",
        "colab": {
          "base_uri": "https://localhost:8080/",
          "height": 35
        },
        "outputId": "8632e9c4-a7ad-4bac-aa00-afce839ef85b"
      },
      "source": [
        "l = [1,2,3,4,5,6,7]\n",
        "#l,append(56)\n",
        "#l,,insert(2,56)\n",
        "#l,count(5)\n",
        "#l,index(4)\n",
        "#1pop\n",
        "#l.sort()\n",
        "l.pop(3)\n",
        "print(l)"
      ],
      "execution_count": 53,
      "outputs": [
        {
          "output_type": "stream",
          "text": [
            "[1, 2, 3, 5, 6, 7]\n"
          ],
          "name": "stdout"
        }
      ]
    },
    {
      "cell_type": "code",
      "metadata": {
        "id": "grHMYGdejBF3",
        "colab_type": "code",
        "colab": {
          "base_uri": "https://localhost:8080/",
          "height": 54
        },
        "outputId": "515f0779-d434-4bf7-8f20-6e01ae2258ce"
      },
      "source": [
        "# using function return large number from the list  \n",
        "def largenumber(li):\n",
        "  li.sort()\n",
        "  return li[-1]\n",
        "def genericlarge(li,n):\n",
        "    li.sort()\n",
        "    return li[-n]\n",
        "li = [13,2,4,14,43,74,7,8,12,77]\n",
        "print(largenumber(li))\n",
        "print(genericlarge(li,3))"
      ],
      "execution_count": 57,
      "outputs": [
        {
          "output_type": "stream",
          "text": [
            "77\n",
            "43\n"
          ],
          "name": "stdout"
        }
      ]
    },
    {
      "cell_type": "code",
      "metadata": {
        "id": "5XOV9fs4enk1",
        "colab_type": "code",
        "colab": {
          "base_uri": "https://localhost:8080/",
          "height": 54
        },
        "outputId": "76ba248e-c05c-46ce-93e2-38e35a72f3ab"
      },
      "source": [
        "def smallnumber(li):\n",
        "  li.sort()\n",
        "  return li[1]\n",
        "def genericsmall(li,n):\n",
        "    li.sort()\n",
        "    return li[n]\n",
        "li = [2,4,7,14,12,77,96]\n",
        "print(smallnumber(li))\n",
        "print(genericsmall(li,2))"
      ],
      "execution_count": 60,
      "outputs": [
        {
          "output_type": "stream",
          "text": [
            "4\n",
            "7\n"
          ],
          "name": "stdout"
        }
      ]
    },
    {
      "cell_type": "code",
      "metadata": {
        "id": "eZSU6OZjl2yP",
        "colab_type": "code",
        "colab": {}
      },
      "source": [
        "# Tuples\n",
        "- parenthesis -() "
      ],
      "execution_count": 0,
      "outputs": []
    }
  ]
}